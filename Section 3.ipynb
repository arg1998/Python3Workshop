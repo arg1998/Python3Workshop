{
 "cells": [
  {
   "cell_type": "markdown",
   "metadata": {},
   "source": [
    "# **Section 3: Control Flow**\n",
    "<center><img src=\"res/ifelse.gif\" width=\"500\" /></center>"
   ]
  },
  {
   "cell_type": "markdown",
   "metadata": {},
   "source": [
    "# What is `False`? "
   ]
  },
  {
   "cell_type": "markdown",
   "metadata": {},
   "source": [
    "+ `None`\n",
    "+ `False`\n",
    "+ `0` (whatever type from integer, float to complex)\n",
    "+ Empty collections: `“”`, `()`, `[]`, `{}`"
   ]
  },
  {
   "cell_type": "markdown",
   "metadata": {},
   "source": [
    "# What is `True`? \n",
    "\n",
    "Well, obviously `not` False ;-)"
   ]
  },
  {
   "cell_type": "markdown",
   "metadata": {},
   "source": [
    "### Comparison Operator (recap)"
   ]
  },
  {
   "cell_type": "markdown",
   "metadata": {},
   "source": [
    "## Python `if` statement\n"
   ]
  },
  {
   "cell_type": "code",
   "execution_count": 8,
   "metadata": {},
   "outputs": [
    {
     "name": "stdout",
     "output_type": "stream",
     "text": [
      "done\n"
     ]
    }
   ],
   "source": [
    "a = 6\n",
    "if a == 5:\n",
    "    print('a is 5')\n",
    "\n",
    "print(\"done\")"
   ]
  },
  {
   "cell_type": "markdown",
   "metadata": {},
   "source": [
    "### with variables"
   ]
  },
  {
   "cell_type": "code",
   "execution_count": 13,
   "metadata": {},
   "outputs": [
    {
     "name": "stdin",
     "output_type": "stream",
     "text": [
      "enter your age:  25\n"
     ]
    },
    {
     "name": "stdout",
     "output_type": "stream",
     "text": [
      "REST OF THE PROGRAM\n"
     ]
    }
   ],
   "source": [
    "x = input(\"enter your age: \")\n",
    "x = int(x)\n",
    "if x < 18:\n",
    "    print(\"you are under aged for this program\")\n",
    "\n",
    "\n",
    "print(\"REST OF THE PROGRAM\")"
   ]
  },
  {
   "cell_type": "markdown",
   "metadata": {},
   "source": [
    "### `else` block"
   ]
  },
  {
   "cell_type": "code",
   "execution_count": null,
   "metadata": {},
   "outputs": [],
   "source": [
    "x = input(\"enter your age: \")\n",
    "x = int(x)\n",
    "if x < 18:\n",
    "    print(\"you are under aged for this program\")\n",
    "else:\n",
    "    print(\"welcome to python3 club, have Fun ;-)\")\n",
    "\n",
    "print(\"REST OF THE PROGRAM\")"
   ]
  },
  {
   "cell_type": "markdown",
   "metadata": {},
   "source": [
    "### multiple condtions\n",
    "```python\n",
    "if (cod1 and cond2) or (cond3 and cond4):\n",
    "    pass\n",
    "```"
   ]
  },
  {
   "cell_type": "code",
   "execution_count": null,
   "metadata": {},
   "outputs": [],
   "source": [
    "age = 22\n",
    "name = \"amir\"\n",
    "\n",
    "if age == 22 and name == \"amir\" :\n",
    "    print(\"that's me\")\n",
    "else:\n",
    "    print(\"ooops, wrong person\")"
   ]
  },
  {
   "cell_type": "code",
   "execution_count": 15,
   "metadata": {},
   "outputs": [
    {
     "name": "stdout",
     "output_type": "stream",
     "text": [
      "you are ready to go -_*\n"
     ]
    }
   ],
   "source": [
    "age = 1\n",
    "name = \"Amir Reza\"\n",
    "if age <= 0 or name == \"\":\n",
    "    print(\"please enter valid inputs for name and age\")\n",
    "else:\n",
    "    print(\"you are ready to go -_*\")"
   ]
  },
  {
   "cell_type": "markdown",
   "metadata": {},
   "source": [
    "### **Switch Case** in python and **Nested Conditions**"
   ]
  },
  {
   "cell_type": "code",
   "execution_count": null,
   "metadata": {},
   "outputs": [],
   "source": [
    "year = input(\"please enter a year number (1900-2019) : \")\n",
    "year = int(year)\n",
    "validation = True\n",
    "\n",
    "# validate the input\n",
    "if year < 1930 or year > 2019:\n",
    "    print(\"input a year number within (1900-2019) range\")\n",
    "    validation = False\n",
    "\n",
    "\n",
    "if validation:\n",
    "    if year == 1918:\n",
    "        print(\"Event: World War 1 has started\")\n",
    "    elif year == 1939:\n",
    "        print(\"Event: Word War 2 has started\")\n",
    "    elif year == 2019:\n",
    "        print(\"that's where we are right now\")\n",
    "    else:\n",
    "        print(\"I only know a few things, if you don't like it, drop it ;|\")\n",
    "else:\n",
    "    print(\"Validation Error\")"
   ]
  },
  {
   "cell_type": "markdown",
   "metadata": {},
   "source": [
    "## Loops \n",
    "+ for loop\n",
    "+ while loop"
   ]
  },
  {
   "cell_type": "code",
   "execution_count": null,
   "metadata": {},
   "outputs": [],
   "source": [
    "#simple range for loop\n",
    "for i in range(0,5):\n",
    "    print(i)\n",
    "print(\"OUTSIDE LOOP\")"
   ]
  },
  {
   "cell_type": "code",
   "execution_count": null,
   "metadata": {},
   "outputs": [],
   "source": [
    "# range with stepping \n",
    "for i in range(0,100,10):\n",
    "    print(i)\n",
    "print(\"OUTSIDE LOOP\")"
   ]
  },
  {
   "cell_type": "code",
   "execution_count": null,
   "metadata": {},
   "outputs": [],
   "source": [
    "# error if using range for floats\n",
    "for i in range(10, 11, 0.5):\n",
    "    print(i)\n",
    "print(\"OUTSIDE LOOP\")"
   ]
  },
  {
   "cell_type": "code",
   "execution_count": null,
   "metadata": {},
   "outputs": [],
   "source": [
    "# break from the loop\n",
    "for i in range(20):\n",
    "    print(i)\n",
    "    if i == 10:\n",
    "        print(\"breaking the loop\")\n",
    "        break\n",
    "print(\"OUTSIDE LOOP\")"
   ]
  },
  {
   "cell_type": "markdown",
   "metadata": {},
   "source": [
    "### while loop"
   ]
  },
  {
   "cell_type": "code",
   "execution_count": null,
   "metadata": {},
   "outputs": [],
   "source": [
    "# simple while loop\n",
    "x = 0\n",
    "while True:\n",
    "    x = 2\n",
    "print(\"OUTSIDE LOOP\")"
   ]
  },
  {
   "cell_type": "markdown",
   "metadata": {},
   "source": [
    "<center><img src=\"res/loop.jpg\" width=\"500\" /></center>"
   ]
  },
  {
   "cell_type": "code",
   "execution_count": null,
   "metadata": {},
   "outputs": [],
   "source": [
    "# while loop condition\n",
    "x = 0\n",
    "while x < 10:\n",
    "    x += 1\n",
    "    print(x)\n",
    "print(\"OUTSIDE LOOP\")    "
   ]
  },
  {
   "cell_type": "markdown",
   "metadata": {},
   "source": [
    "### Continue Keywrod"
   ]
  },
  {
   "cell_type": "code",
   "execution_count": null,
   "metadata": {},
   "outputs": [],
   "source": [
    "# continue lets you to skip the rest of the loop block and jumps to the next iteration\n",
    "for i in range(0,10):\n",
    "    if i%2 == 0:\n",
    "        print(\"skipping: \", i)\n",
    "        continue\n",
    "    print(i)"
   ]
  },
  {
   "cell_type": "markdown",
   "metadata": {},
   "source": [
    "### <font color=red>Exercise: A number guessing game</font>\n",
    "1. pick a number at random\n",
    "2. ask the user to guess the number \n",
    "3. propmt the user and quit if he/she guessed the number correctly \n",
    "4. if user's guess is not correct, tell the user's choice was greater or smaller\n",
    "5. go to step 2"
   ]
  },
  {
   "cell_type": "code",
   "execution_count": null,
   "metadata": {},
   "outputs": [],
   "source": [
    "# write the code here "
   ]
  },
  {
   "cell_type": "code",
   "execution_count": null,
   "metadata": {},
   "outputs": [],
   "source": []
  }
 ],
 "metadata": {
  "kernelspec": {
   "display_name": "Python 3",
   "language": "python",
   "name": "python3"
  },
  "language_info": {
   "codemirror_mode": {
    "name": "ipython",
    "version": 3
   },
   "file_extension": ".py",
   "mimetype": "text/x-python",
   "name": "python",
   "nbconvert_exporter": "python",
   "pygments_lexer": "ipython3",
   "version": "3.6.8"
  }
 },
 "nbformat": 4,
 "nbformat_minor": 2
}
