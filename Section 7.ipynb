{
 "cells": [
  {
   "cell_type": "markdown",
   "metadata": {},
   "source": [
    "# **Section 7: Workign with Files and Directories**"
   ]
  },
  {
   "cell_type": "markdown",
   "metadata": {},
   "source": [
    "## [python file object](https://www.programiz.com/python-programming/file-operation)"
   ]
  },
  {
   "cell_type": "code",
   "execution_count": 6,
   "metadata": {},
   "outputs": [
    {
     "name": "stdout",
     "output_type": "stream",
     "text": [
      "<_io.TextIOWrapper name='res/myFile.txt' mode='r' encoding='UTF-8'>    TYPE:  <class '_io.TextIOWrapper'>\n"
     ]
    }
   ],
   "source": [
    "file = open(\"res/myFile.txt\", mode=\"r\")\n",
    "print(file, \"   TYPE: \", type(file))"
   ]
  },
  {
   "cell_type": "markdown",
   "metadata": {},
   "source": [
    "## python file modes\n",
    "<center><img src=\"res/filemodes.png\" /></center>"
   ]
  },
  {
   "cell_type": "code",
   "execution_count": 7,
   "metadata": {},
   "outputs": [
    {
     "name": "stdout",
     "output_type": "stream",
     "text": [
      "len:  94\n",
      "TEXT:  Hello, Im a text File.\n",
      "You see, im on the new line right now.\n",
      "\n",
      "and im on the fouth line.\n",
      "done!\n"
     ]
    }
   ],
   "source": [
    "text = file.read()\n",
    "print(\"len: \", len(text))\n",
    "print(\"TEXT: \", text)"
   ]
  },
  {
   "cell_type": "code",
   "execution_count": 8,
   "metadata": {},
   "outputs": [],
   "source": [
    "# close the file after youre done \n",
    "file.close()"
   ]
  },
  {
   "cell_type": "markdown",
   "metadata": {},
   "source": [
    "## **A new syntax for this kind of operations**\n",
    "**Whenever you need to release resources after some operations, you can use `with` statement, it automatically opens and closes the object for you**"
   ]
  },
  {
   "cell_type": "code",
   "execution_count": 15,
   "metadata": {},
   "outputs": [
    {
     "name": "stdout",
     "output_type": "stream",
     "text": [
      "LINE:  Hello, Im a text File.\n",
      "\n",
      "LINE:  You see, im on the new line right now.\n",
      "\n",
      "LINE:  \n",
      "\n",
      "LINE:  and im on the fouth line.\n",
      "\n",
      "LINE:  done!\n"
     ]
    }
   ],
   "source": [
    "with open(\"res/myFile.txt\", mode=\"r\") as file:\n",
    "    for line in file:\n",
    "        print(\"LINE: \", line)"
   ]
  },
  {
   "cell_type": "markdown",
   "metadata": {},
   "source": [
    "## **write to file**"
   ]
  },
  {
   "cell_type": "code",
   "execution_count": 19,
   "metadata": {},
   "outputs": [],
   "source": [
    "with open(\"files/NEWFILE.pyfou\", mode=\"a\") as out:\n",
    "    out.write(\"hello\\n\")\n",
    "    out.write(\"bye\\n\")"
   ]
  },
  {
   "cell_type": "markdown",
   "metadata": {},
   "source": [
    "### **Create, Delete, Rename, Move and Copy files in python**"
   ]
  },
  {
   "cell_type": "code",
   "execution_count": 29,
   "metadata": {},
   "outputs": [],
   "source": [
    "# create empty file\n",
    "open(\"files/emptyfile.pyfou\", mode=\"w\").close()"
   ]
  },
  {
   "cell_type": "code",
   "execution_count": null,
   "metadata": {},
   "outputs": [],
   "source": [
    "# rename a file\n",
    "import os\n",
    "# be careful, this command actually moves the file if you doesn't provide the right path\n",
    "os.rename(\"files/emptyfile.pyfou\", \"dd.ll\") # fix this "
   ]
  },
  {
   "cell_type": "code",
   "execution_count": 30,
   "metadata": {},
   "outputs": [],
   "source": [
    "# moving a file\n",
    "os.rename(\"files/emptyfile.pyfou\", \"res/emptyfile.pyfou\") # note that tha names are identical"
   ]
  },
  {
   "cell_type": "code",
   "execution_count": 31,
   "metadata": {},
   "outputs": [
    {
     "data": {
      "text/plain": [
       "'files/emptyfile.pyfou'"
      ]
     },
     "execution_count": 31,
     "metadata": {},
     "output_type": "execute_result"
    }
   ],
   "source": [
    "# copying a file\n",
    "import shutil \n",
    "\n",
    "shutil.copy(\"res/emptyfile.pyfou\", \"files/emptyfile.pyfou\")"
   ]
  },
  {
   "cell_type": "code",
   "execution_count": 32,
   "metadata": {},
   "outputs": [],
   "source": [
    "# remove a file\n",
    "os.remove(\"res/emptyfile.pyfou\")"
   ]
  },
  {
   "cell_type": "markdown",
   "metadata": {},
   "source": [
    "### **Working with directories**"
   ]
  },
  {
   "cell_type": "code",
   "execution_count": 34,
   "metadata": {},
   "outputs": [
    {
     "data": {
      "text/plain": [
       "'/home/arg_1998/Notebooks/PythonWorkshop'"
      ]
     },
     "execution_count": 34,
     "metadata": {},
     "output_type": "execute_result"
    }
   ],
   "source": [
    "# get current directory\n",
    "current_dir = os.getcwd()\n",
    "print(current_dir)"
   ]
  },
  {
   "cell_type": "code",
   "execution_count": 42,
   "metadata": {},
   "outputs": [
    {
     "name": "stdout",
     "output_type": "stream",
     "text": [
      "['Section 1.ipynb', 'Section 6.ipynb', 'Section 2.ipynb', 'Section 5.ipynb', 'Section 7.ipynb', 'Section 3.ipynb', 'res', 'Data Structures and Sequences.ipynb', 'dd.ll', 'Section 4.ipynb', 'files', '.ipynb_checkpoints']\n"
     ]
    }
   ],
   "source": [
    "# list all directories\n",
    "dirs = os.listdir(\"./\")\n",
    "print(dirs)"
   ]
  },
  {
   "cell_type": "code",
   "execution_count": 53,
   "metadata": {},
   "outputs": [
    {
     "name": "stdout",
     "output_type": "stream",
     "text": [
      "('.', ['res', 'files', '.ipynb_checkpoints'], ['Section 1.ipynb', 'Section 6.ipynb', 'Section 2.ipynb', 'Section 5.ipynb', 'Section 7.ipynb', 'Section 3.ipynb', 'Data Structures and Sequences.ipynb', 'dd.ll', 'Section 4.ipynb'])\n",
      "\n",
      "*********************\n",
      "\n",
      "('./res', ['.ipynb_checkpoints'], ['pep8.png', 'working.jpeg', 'myFile.txt', 'ifelse.gif', 'wth.jpg', 'pythonhistory.jpg', 'loop.jpg', 'applications.jpg', 'tuplevslist.png', 'dictfunctions.png', 'strongweak.gif', 'indent meme.jpg', 'wtf.jpg', 'staticdynamic.jpg', 'setops.png', 'filemodes.png', 'set.webp', 'global.png', 'immutable.png', 'indent meme.png', 'NEWFILE.pyfou', 'dict.png'])\n",
      "\n",
      "*********************\n",
      "\n",
      "('./res/.ipynb_checkpoints', [], ['myFile-checkpoint.txt', 'filemodes-checkpoint.png', 'NEWFILE-checkpoint.pyfou', 'emptyfile-checkpoint.pyfou'])\n",
      "\n",
      "*********************\n",
      "\n",
      "('./files', ['.ipynb_checkpoints'], ['emptyfile.pyfou'])\n",
      "\n",
      "*********************\n",
      "\n",
      "('./files/.ipynb_checkpoints', [], ['emptyfile-checkpoint.pyfou'])\n",
      "\n",
      "*********************\n",
      "\n",
      "('./.ipynb_checkpoints', [], ['Section 7-checkpoint.ipynb', 'Section 4-checkpoint.ipynb', 'Section 3-checkpoint.ipynb', 'Section 2-checkpoint.ipynb', 'Section 5-checkpoint.ipynb', 'Section 1-checkpoint.ipynb', 'Data Structures and Sequences-checkpoint.ipynb', 'Section 6-checkpoint.ipynb'])\n",
      "\n",
      "*********************\n",
      "\n"
     ]
    }
   ],
   "source": [
    "# another way of listing dirs and files\n",
    "for entry in list(os.walk(\".\")):\n",
    "    print(entry)\n",
    "    print(\"\\n*********************\\n\")"
   ]
  },
  {
   "cell_type": "markdown",
   "metadata": {},
   "source": [
    "## How os Walk works ?\n",
    "\n",
    "<center><img src=\"res/oswalk1.jpg\" /><img src=\"res/oswalk2.jpg\" /></center>"
   ]
  },
  {
   "cell_type": "code",
   "execution_count": null,
   "metadata": {},
   "outputs": [],
   "source": [
    "# search and find the code for :\n",
    "# 1) create a directory\n",
    "# 2) rename a directory\n",
    "# 3) delete directory"
   ]
  }
 ],
 "metadata": {
  "kernelspec": {
   "display_name": "Python 3",
   "language": "python",
   "name": "python3"
  },
  "language_info": {
   "codemirror_mode": {
    "name": "ipython",
    "version": 3
   },
   "file_extension": ".py",
   "mimetype": "text/x-python",
   "name": "python",
   "nbconvert_exporter": "python",
   "pygments_lexer": "ipython3",
   "version": "3.6.8"
  }
 },
 "nbformat": 4,
 "nbformat_minor": 2
}
