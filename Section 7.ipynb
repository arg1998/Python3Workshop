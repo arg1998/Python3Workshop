{
 "cells": [
  {
   "cell_type": "markdown",
   "metadata": {},
   "source": [
    "# **Section 7: Workign with Files and Directories**"
   ]
  },
  {
   "cell_type": "markdown",
   "metadata": {},
   "source": [
    "## [python file object](https://www.programiz.com/python-programming/file-operation)"
   ]
  },
  {
   "cell_type": "code",
   "execution_count": 2,
   "metadata": {},
   "outputs": [
    {
     "name": "stdout",
     "output_type": "stream",
     "text": [
      "<_io.TextIOWrapper name='res/myFile.txt' mode='r' encoding='UTF-8'>    TYPE:  <class '_io.TextIOWrapper'>\n"
     ]
    }
   ],
   "source": [
    "file = open(\"res/myFile.txt\", mode=\"r\")\n",
    "\n",
    "print(file, \"   TYPE: \", type(file))"
   ]
  },
  {
   "cell_type": "markdown",
   "metadata": {},
   "source": [
    "## python file modes\n",
    "<center><img src=\"res/filemodes.png\" /></center>"
   ]
  },
  {
   "cell_type": "code",
   "execution_count": 3,
   "metadata": {},
   "outputs": [
    {
     "name": "stdout",
     "output_type": "stream",
     "text": [
      "len:  94\n",
      "TEXT:  Hello, Im a text File.\n",
      "You see, im on the new line right now.\n",
      "\n",
      "and im on the fouth line.\n",
      "done!\n"
     ]
    }
   ],
   "source": [
    "text = file.read()\n",
    "print(\"len: \", len(text))\n",
    "print(\"TEXT: \", text)"
   ]
  },
  {
   "cell_type": "code",
   "execution_count": null,
   "metadata": {},
   "outputs": [],
   "source": [
    "# close the file after youre done \n",
    "file.close()"
   ]
  },
  {
   "cell_type": "markdown",
   "metadata": {},
   "source": [
    "## **A new syntax for this kind of operations**\n",
    "**Whenever you need to release resources after some operations, you can use `with` statement, it automatically opens and closes the object for you**"
   ]
  },
  {
   "cell_type": "code",
   "execution_count": 4,
   "metadata": {},
   "outputs": [
    {
     "name": "stdout",
     "output_type": "stream",
     "text": [
      "LINE 0:  Hello, Im a text File.\n",
      "\n",
      "LINE 1:  You see, im on the new line right now.\n",
      "\n",
      "LINE 2:  \n",
      "\n",
      "LINE 3:  and im on the fouth line.\n",
      "\n",
      "LINE 4:  done!\n"
     ]
    }
   ],
   "source": [
    "with open(\"res/myFile.txt\", mode=\"r\") as file:\n",
    "    i = 0\n",
    "    for line in file:\n",
    "        print(F\"LINE {i}: \", line)\n",
    "        i = i +1"
   ]
  },
  {
   "cell_type": "markdown",
   "metadata": {},
   "source": [
    "## **write to file**"
   ]
  },
  {
   "cell_type": "code",
   "execution_count": 6,
   "metadata": {},
   "outputs": [],
   "source": [
    "# out = open(\"files/NEWFILE.pyfou\", mode=\"a\")\n",
    "with open(\"files/NEWFILE.pyfou\", mode=\"a\") as out:\n",
    "    out.write(\"\\n*****************\\n\")\n",
    "    out.write(\"hello\\n\")\n",
    "    out.write(\"bye\\n\")"
   ]
  },
  {
   "cell_type": "markdown",
   "metadata": {},
   "source": [
    "### **Create, Delete, Rename, Move and Copy files in python**"
   ]
  },
  {
   "cell_type": "code",
   "execution_count": 9,
   "metadata": {},
   "outputs": [],
   "source": [
    "# create empty file\n",
    "f = open(\"files/emptyfile_000.pyfou\", mode=\"w\")\n",
    "f.close()"
   ]
  },
  {
   "cell_type": "code",
   "execution_count": 11,
   "metadata": {},
   "outputs": [],
   "source": [
    "# rename a file\n",
    "import os\n",
    "# be careful, this command actually moves the file if you doesn't provide the right path\n",
    "os.rename(\"files/emptyfile_000.pyfou\", \"files/dd.ll\") # fix this "
   ]
  },
  {
   "cell_type": "code",
   "execution_count": 13,
   "metadata": {},
   "outputs": [],
   "source": [
    "# moving a file\n",
    "os.rename(\"files/emptyfile.pyfou\", \"res/emptyfile.pyfou\") # note that tha names are identical"
   ]
  },
  {
   "cell_type": "code",
   "execution_count": 14,
   "metadata": {},
   "outputs": [
    {
     "data": {
      "text/plain": [
       "'files/emptyfile.pyfou'"
      ]
     },
     "execution_count": 14,
     "metadata": {},
     "output_type": "execute_result"
    }
   ],
   "source": [
    "# copying a file\n",
    "import shutil \n",
    "\n",
    "shutil.copy(\"res/emptyfile.pyfou\", \"files/emptyfile.pyfou\")"
   ]
  },
  {
   "cell_type": "code",
   "execution_count": null,
   "metadata": {},
   "outputs": [],
   "source": [
    "# remove a file\n",
    "os.remove(\"res/emptyfile.pyfou\")"
   ]
  },
  {
   "cell_type": "markdown",
   "metadata": {},
   "source": [
    "### **Working with directories**"
   ]
  },
  {
   "cell_type": "code",
   "execution_count": 15,
   "metadata": {},
   "outputs": [
    {
     "name": "stdout",
     "output_type": "stream",
     "text": [
      "/home/arg_1998/Notebooks/PythonWorkshop\n"
     ]
    }
   ],
   "source": [
    "# get current directory\n",
    "current_dir = os.getcwd()\n",
    "print(current_dir)"
   ]
  },
  {
   "cell_type": "code",
   "execution_count": 17,
   "metadata": {},
   "outputs": [
    {
     "name": "stdout",
     "output_type": "stream",
     "text": [
      "['dd.ll', 'emptyfile.pyfou', 'NEWFILE.pyfou', '.ipynb_checkpoints']\n"
     ]
    }
   ],
   "source": [
    "# list all directories\n",
    "dirs = os.listdir(\"./files\")\n",
    "print(dirs)"
   ]
  },
  {
   "cell_type": "code",
   "execution_count": 18,
   "metadata": {},
   "outputs": [
    {
     "name": "stdout",
     "output_type": "stream",
     "text": [
      "('.', ['res', '.git', 'files', '.ipynb_checkpoints'], ['Section 1.ipynb', 'Section 6.ipynb', 'Section 2.ipynb', 'Section 5.ipynb', 'Section 7.ipynb', 'Section 3.ipynb', 'Section 8.ipynb', 'dd.ll', 'Section 4.ipynb'])\n",
      "\n",
      "*********************\n",
      "\n",
      "('./res', ['oop', '.ipynb_checkpoints'], ['pep8.png', 'euclidian.png', 'working.jpeg', 'myFile.txt', 'oop.webp', 'ifelse.gif', 'wth.jpg', 'pythonhistory.jpg', 'oop1.png', 'loop.jpg', 'applications.jpg', 'tuplevslist.png', 'dictfunctions.png', 'strongweak.gif', 'indent meme.jpg', 'wtf.jpg', 'staticdynamic.jpg', 'setops.png', 'filemodes.png', 'set.webp', 'oswalk2.jpg', 'oswalk1.jpg', 'global.png', 'emptyfile.pyfou', 'oop5.png', 'immutable.png', 'indent meme.png', 'NEWFILE.pyfou', 'dict.png'])\n",
      "\n",
      "*********************\n",
      "\n",
      "('./res/oop', [], ['oopConcept.png', '444.png'])\n",
      "\n",
      "*********************\n",
      "\n",
      "('./res/.ipynb_checkpoints', [], ['myFile-checkpoint.txt'])\n",
      "\n",
      "*********************\n",
      "\n",
      "('./.git', ['logs', 'objects', 'refs', 'branches', 'info', 'hooks'], ['config', 'HEAD', 'description', 'index', 'FETCH_HEAD', 'ORIG_HEAD', 'COMMIT_EDITMSG'])\n",
      "\n",
      "*********************\n",
      "\n",
      "('./.git/logs', ['refs'], ['HEAD'])\n",
      "\n",
      "*********************\n",
      "\n",
      "('./.git/logs/refs', ['heads', 'remotes'], [])\n",
      "\n",
      "*********************\n",
      "\n",
      "('./.git/logs/refs/heads', [], ['master'])\n",
      "\n",
      "*********************\n",
      "\n",
      "('./.git/logs/refs/remotes', ['origin'], [])\n",
      "\n",
      "*********************\n",
      "\n",
      "('./.git/logs/refs/remotes/origin', [], ['master'])\n",
      "\n",
      "*********************\n",
      "\n",
      "('./.git/objects', ['9f', '72', '14', '8d', 'pack', 'a0', 'ad', 'b5', '55', 'ea', 'a8', '07', 'af', 'd3', 'b2', '44', '4f', '62', 'fb', 'd2', '5a', 'e6', '8f', '06', 'a9', 'cb', 'e9', '73', 'c2', '39', '59', '99', 'ed', '49', 'info', '38', 'f7', 'db', '67', '11'], [])\n",
      "\n",
      "*********************\n",
      "\n",
      "('./.git/objects/9f', [], ['51832f592a0574520d0fa4defbd9059b5d15ee'])\n",
      "\n",
      "*********************\n",
      "\n",
      "('./.git/objects/72', [], ['e5ab75f433f6ff7effdd92937abb13523f4953'])\n",
      "\n",
      "*********************\n",
      "\n",
      "('./.git/objects/14', [], ['ed6e7deaad6dcf0e42f598fa2701b3e33933db'])\n",
      "\n",
      "*********************\n",
      "\n",
      "('./.git/objects/8d', [], ['6f1842e3a5594e91dd2f1953a41b05b56027ad'])\n",
      "\n",
      "*********************\n",
      "\n",
      "('./.git/objects/pack', [], [])\n",
      "\n",
      "*********************\n",
      "\n",
      "('./.git/objects/a0', [], ['b419de79bfa6e8f760edc7128b99ff74fe66cc'])\n",
      "\n",
      "*********************\n",
      "\n",
      "('./.git/objects/ad', [], ['6d0da99d0c3ed2b05fbf044708006d69768cf0'])\n",
      "\n",
      "*********************\n",
      "\n",
      "('./.git/objects/b5', [], ['27cca13913c6727b59145eb450fa70f3e77d45'])\n",
      "\n",
      "*********************\n",
      "\n",
      "('./.git/objects/55', [], ['eeb65430239a84a8fca5f0c42d219a3acaa996'])\n",
      "\n",
      "*********************\n",
      "\n",
      "('./.git/objects/ea', [], ['f02d27a9940dff89d523f6bc1b4167b1149905'])\n",
      "\n",
      "*********************\n",
      "\n",
      "('./.git/objects/a8', [], ['ed56aac6f2e890f92381aea4399674737a47d9'])\n",
      "\n",
      "*********************\n",
      "\n",
      "('./.git/objects/07', [], ['7c24d27057a4d0486f67bdbb3c185ad6ca9036'])\n",
      "\n",
      "*********************\n",
      "\n",
      "('./.git/objects/af', [], ['b7a79c777d94840a91bfd2e1b7af6d51b19696'])\n",
      "\n",
      "*********************\n",
      "\n",
      "('./.git/objects/d3', [], ['91e2a6fa5f735dd946e5f2a4a33d40db3a0b53', 'b90658ce8fed2259b26dbb63529f7f25745b6a'])\n",
      "\n",
      "*********************\n",
      "\n",
      "('./.git/objects/b2', [], ['231a5f322fb83f36c4d210016143d88e1fd4e3'])\n",
      "\n",
      "*********************\n",
      "\n",
      "('./.git/objects/44', [], ['37fb328b1886b56cc19b3d83dc6658c0bf7993'])\n",
      "\n",
      "*********************\n",
      "\n",
      "('./.git/objects/4f', [], ['9c8bd7c3adccc572b8ad0d1aa0f7c0ddbc1e8a'])\n",
      "\n",
      "*********************\n",
      "\n",
      "('./.git/objects/62', [], ['f3c8c823d7338377966bd14791b1af71793c66'])\n",
      "\n",
      "*********************\n",
      "\n",
      "('./.git/objects/fb', [], ['12d8fac79a67841b50d98d088f9c47fcb9820e'])\n",
      "\n",
      "*********************\n",
      "\n",
      "('./.git/objects/d2', [], ['3e4fff9e24947f662a216d2aa446c4c17d1d08'])\n",
      "\n",
      "*********************\n",
      "\n",
      "('./.git/objects/5a', [], ['6f575072c2055cb684b1426d6b5f1e44520223'])\n",
      "\n",
      "*********************\n",
      "\n",
      "('./.git/objects/e6', [], ['9de29bb2d1d6434b8b29ae775ad8c2e48c5391'])\n",
      "\n",
      "*********************\n",
      "\n",
      "('./.git/objects/8f', [], ['6db1da0ca0bd678ccd04f8f69056b8ff2edf83'])\n",
      "\n",
      "*********************\n",
      "\n",
      "('./.git/objects/06', [], ['87215a3004663c98c8e79b80e46c05fec9ed99'])\n",
      "\n",
      "*********************\n",
      "\n",
      "('./.git/objects/a9', [], ['ae410354b3b3ede29ce55cc1505ec46eae4265'])\n",
      "\n",
      "*********************\n",
      "\n",
      "('./.git/objects/cb', [], ['01cd85beef9f0f6dc3cd4dd399516becae2717', '3d1b538d4f7dac32160100bb2a2292b73d1de7'])\n",
      "\n",
      "*********************\n",
      "\n",
      "('./.git/objects/e9', [], ['d4fd4592e94d0a5ff1dc8328bc065c24ea19d2'])\n",
      "\n",
      "*********************\n",
      "\n",
      "('./.git/objects/73', [], ['0159691acfa5febc4df361d1e923832fcf9a2b'])\n",
      "\n",
      "*********************\n",
      "\n",
      "('./.git/objects/c2', [], ['c0b0893e630bbe3143e170b232577a8409e1db'])\n",
      "\n",
      "*********************\n",
      "\n",
      "('./.git/objects/39', [], ['c7726cac25eb32e78433dccf82c242981451aa'])\n",
      "\n",
      "*********************\n",
      "\n",
      "('./.git/objects/59', [], ['1f51a9951e72f94dd4759b01d728a51c0a4392'])\n",
      "\n",
      "*********************\n",
      "\n",
      "('./.git/objects/99', [], ['b99e41f4b247ff9ab95b839f6a6e83b55bf63b'])\n",
      "\n",
      "*********************\n",
      "\n",
      "('./.git/objects/ed', [], ['3ac10a021c903d31ecbe910e87d1a5e1999cd0'])\n",
      "\n",
      "*********************\n",
      "\n",
      "('./.git/objects/49', [], ['90f597f697a7409c22d26cda0617165462ce94'])\n",
      "\n",
      "*********************\n",
      "\n",
      "('./.git/objects/info', [], [])\n",
      "\n",
      "*********************\n",
      "\n",
      "('./.git/objects/38', [], ['5495bb191612a32140df9168728965282fcccc'])\n",
      "\n",
      "*********************\n",
      "\n",
      "('./.git/objects/f7', [], ['34bf7a38e71d2f3fb037aa8e787be8b86ff430'])\n",
      "\n",
      "*********************\n",
      "\n",
      "('./.git/objects/db', [], ['8ac5494543a946867898631d25653f686c40b1'])\n",
      "\n",
      "*********************\n",
      "\n",
      "('./.git/objects/67', [], ['136bce10b55893e14cbf8df62f357aa881a1bd'])\n",
      "\n",
      "*********************\n",
      "\n",
      "('./.git/objects/11', [], ['6a8f0d1e4621f993975d619c6a6e38f7bda97b'])\n",
      "\n",
      "*********************\n",
      "\n",
      "('./.git/refs', ['heads', 'tags', 'remotes'], [])\n",
      "\n",
      "*********************\n",
      "\n",
      "('./.git/refs/heads', [], ['master'])\n",
      "\n",
      "*********************\n",
      "\n",
      "('./.git/refs/tags', [], [])\n",
      "\n",
      "*********************\n",
      "\n",
      "('./.git/refs/remotes', ['origin'], [])\n",
      "\n",
      "*********************\n",
      "\n",
      "('./.git/refs/remotes/origin', [], ['master'])\n",
      "\n",
      "*********************\n",
      "\n",
      "('./.git/branches', [], [])\n",
      "\n",
      "*********************\n",
      "\n",
      "('./.git/info', [], ['exclude'])\n",
      "\n",
      "*********************\n",
      "\n",
      "('./.git/hooks', [], ['pre-push.sample', 'pre-commit.sample', 'fsmonitor-watchman.sample', 'prepare-commit-msg.sample', 'post-update.sample', 'pre-receive.sample', 'pre-rebase.sample', 'pre-applypatch.sample', 'applypatch-msg.sample', 'update.sample', 'commit-msg.sample'])\n",
      "\n",
      "*********************\n",
      "\n",
      "('./files', ['.ipynb_checkpoints'], ['dd.ll', 'emptyfile.pyfou', 'NEWFILE.pyfou'])\n",
      "\n",
      "*********************\n",
      "\n",
      "('./files/.ipynb_checkpoints', [], ['NEWFILE-checkpoint.pyfou', 'emptyfile_000-checkpoint.pyfou', 'emptyfile-checkpoint.pyfou'])\n",
      "\n",
      "*********************\n",
      "\n",
      "('./.ipynb_checkpoints', [], ['Section 7-checkpoint.ipynb', 'Section 4-checkpoint.ipynb', 'Section 3-checkpoint.ipynb', 'Section 2-checkpoint.ipynb', 'Section 5-checkpoint.ipynb', 'Section 1-checkpoint.ipynb', 'Section 6-checkpoint.ipynb', 'Section 8-checkpoint.ipynb'])\n",
      "\n",
      "*********************\n",
      "\n"
     ]
    }
   ],
   "source": [
    "# another way of listing dirs and files\n",
    "for entry in list(os.walk(\".\")):\n",
    "    print(entry)\n",
    "    print(\"\\n*********************\\n\")"
   ]
  },
  {
   "cell_type": "markdown",
   "metadata": {},
   "source": [
    "## How os Walk works ?\n",
    "\n",
    "<center><img src=\"res/oswalk1.jpg\" /><img src=\"res/oswalk2.jpg\" /></center>"
   ]
  },
  {
   "cell_type": "code",
   "execution_count": null,
   "metadata": {},
   "outputs": [],
   "source": [
    "# search and find the code for :\n",
    "# 1) create a directory\n",
    "# 2) rename a directory\n",
    "# 3) delete directory"
   ]
  }
 ],
 "metadata": {
  "kernelspec": {
   "display_name": "Python 3",
   "language": "python",
   "name": "python3"
  },
  "language_info": {
   "codemirror_mode": {
    "name": "ipython",
    "version": 3
   },
   "file_extension": ".py",
   "mimetype": "text/x-python",
   "name": "python",
   "nbconvert_exporter": "python",
   "pygments_lexer": "ipython3",
   "version": "3.6.8"
  }
 },
 "nbformat": 4,
 "nbformat_minor": 2
}
