{
 "cells": [
  {
   "cell_type": "markdown",
   "metadata": {},
   "source": [
    "# **Section 7: Workign with Files and Directories**"
   ]
  },
  {
   "cell_type": "markdown",
   "metadata": {},
   "source": [
    "## [python file object](https://www.programiz.com/python-programming/file-operation)"
   ]
  },
  {
   "cell_type": "code",
   "execution_count": 2,
   "metadata": {},
   "outputs": [
    {
     "name": "stdout",
     "output_type": "stream",
     "text": [
      "<_io.TextIOWrapper name='res/myFile.txt' mode='r' encoding='UTF-8'>    TYPE:  <class '_io.TextIOWrapper'>\n"
     ]
    }
   ],
   "source": [
    "file = open(\"res/myFile.txt\", mode=\"r\")\n",
    "\n",
    "print(file, \"   TYPE: \", type(file))"
   ]
  },
  {
   "cell_type": "markdown",
   "metadata": {},
   "source": [
    "## python file modes\n",
    "<center><img src=\"res/filemodes.png\" /></center>"
   ]
  },
  {
   "cell_type": "code",
   "execution_count": 3,
   "metadata": {},
   "outputs": [
    {
     "name": "stdout",
     "output_type": "stream",
     "text": [
      "len:  94\n",
      "TEXT:  Hello, Im a text File.\n",
      "You see, im on the new line right now.\n",
      "\n",
      "and im on the fouth line.\n",
      "done!\n"
     ]
    }
   ],
   "source": [
    "text = file.read()\n",
    "print(\"len: \", len(text))\n",
    "print(\"TEXT: \", text)"
   ]
  },
  {
   "cell_type": "code",
   "execution_count": null,
   "metadata": {},
   "outputs": [],
   "source": [
    "# close the file after youre done \n",
    "file.close()"
   ]
  },
  {
   "cell_type": "markdown",
   "metadata": {},
   "source": [
    "## **A new syntax for this kind of operations**\n",
    "**Whenever you need to release resources after some operations, you can use `with` statement, it automatically opens and closes the object for you**"
   ]
  },
  {
   "cell_type": "code",
   "execution_count": 4,
   "metadata": {},
   "outputs": [
    {
     "name": "stdout",
     "output_type": "stream",
     "text": [
      "LINE 0:  Hello, Im a text File.\n",
      "\n",
      "LINE 1:  You see, im on the new line right now.\n",
      "\n",
      "LINE 2:  \n",
      "\n",
      "LINE 3:  and im on the fouth line.\n",
      "\n",
      "LINE 4:  done!\n"
     ]
    }
   ],
   "source": [
    "with open(\"res/myFile.txt\", mode=\"r\") as file:\n",
    "    i = 0\n",
    "    for line in file:\n",
    "        print(F\"LINE {i}: \", line)\n",
    "        i = i +1"
   ]
  },
  {
   "cell_type": "markdown",
   "metadata": {},
   "source": [
    "## **write to file**"
   ]
  },
  {
   "cell_type": "code",
   "execution_count": 6,
   "metadata": {},
   "outputs": [],
   "source": [
    "# out = open(\"files/NEWFILE.pyfou\", mode=\"a\")\n",
    "with open(\"files/NEWFILE.pyfou\", mode=\"a\") as out:\n",
    "    out.write(\"\\n*****************\\n\")\n",
    "    out.write(\"hello\\n\")\n",
    "    out.write(\"bye\\n\")"
   ]
  },
  {
   "cell_type": "markdown",
   "metadata": {},
   "source": [
    "### **Create, Delete, Rename, Move and Copy files in python**"
   ]
  },
  {
   "cell_type": "code",
   "execution_count": 7,
   "metadata": {},
   "outputs": [],
   "source": [
    "# create empty file\n",
    "f = open(\"files/emptyfile_000.pyfou\", mode=\"w\")\n",
    "f.close()"
   ]
  },
  {
   "cell_type": "code",
   "execution_count": null,
   "metadata": {},
   "outputs": [],
   "source": [
    "# rename a file\n",
    "import os\n",
    "# be careful, this command actually moves the file if you doesn't provide the right path\n",
    "os.rename(\"files/emptyfile.pyfou\", \"dd.ll\") # fix this "
   ]
  },
  {
   "cell_type": "code",
   "execution_count": null,
   "metadata": {},
   "outputs": [],
   "source": [
    "# moving a file\n",
    "os.rename(\"files/emptyfile.pyfou\", \"res/emptyfile.pyfou\") # note that tha names are identical"
   ]
  },
  {
   "cell_type": "code",
   "execution_count": null,
   "metadata": {},
   "outputs": [],
   "source": [
    "# copying a file\n",
    "import shutil \n",
    "\n",
    "shutil.copy(\"res/emptyfile.pyfou\", \"files/emptyfile.pyfou\")"
   ]
  },
  {
   "cell_type": "code",
   "execution_count": null,
   "metadata": {},
   "outputs": [],
   "source": [
    "# remove a file\n",
    "os.remove(\"res/emptyfile.pyfou\")"
   ]
  },
  {
   "cell_type": "markdown",
   "metadata": {},
   "source": [
    "### **Working with directories**"
   ]
  },
  {
   "cell_type": "code",
   "execution_count": null,
   "metadata": {},
   "outputs": [],
   "source": [
    "# get current directory\n",
    "current_dir = os.getcwd()\n",
    "print(current_dir)"
   ]
  },
  {
   "cell_type": "code",
   "execution_count": null,
   "metadata": {},
   "outputs": [],
   "source": [
    "# list all directories\n",
    "dirs = os.listdir(\"./\")\n",
    "print(dirs)"
   ]
  },
  {
   "cell_type": "code",
   "execution_count": null,
   "metadata": {},
   "outputs": [],
   "source": [
    "# another way of listing dirs and files\n",
    "for entry in list(os.walk(\".\")):\n",
    "    print(entry)\n",
    "    print(\"\\n*********************\\n\")"
   ]
  },
  {
   "cell_type": "markdown",
   "metadata": {},
   "source": [
    "## How os Walk works ?\n",
    "\n",
    "<center><img src=\"res/oswalk1.jpg\" /><img src=\"res/oswalk2.jpg\" /></center>"
   ]
  },
  {
   "cell_type": "code",
   "execution_count": null,
   "metadata": {},
   "outputs": [],
   "source": [
    "# search and find the code for :\n",
    "# 1) create a directory\n",
    "# 2) rename a directory\n",
    "# 3) delete directory"
   ]
  }
 ],
 "metadata": {
  "kernelspec": {
   "display_name": "Python 3",
   "language": "python",
   "name": "python3"
  },
  "language_info": {
   "codemirror_mode": {
    "name": "ipython",
    "version": 3
   },
   "file_extension": ".py",
   "mimetype": "text/x-python",
   "name": "python",
   "nbconvert_exporter": "python",
   "pygments_lexer": "ipython3",
   "version": "3.6.8"
  }
 },
 "nbformat": 4,
 "nbformat_minor": 2
}
