{
 "cells": [
  {
   "cell_type": "markdown",
   "metadata": {},
   "source": [
    "# **Section 3: Control Flow**\n",
    "<center><img src=\"res/ifelse.gif\" width=\"500\" /></center>"
   ]
  },
  {
   "cell_type": "markdown",
   "metadata": {},
   "source": [
    "# What is `False`? "
   ]
  },
  {
   "cell_type": "markdown",
   "metadata": {},
   "source": [
    "+ `None`\n",
    "+ `False`\n",
    "+ `0` (whatever type from integer, float to complex)\n",
    "+ Empty collections: `“”`, `()`, `[]`, `{}`"
   ]
  },
  {
   "cell_type": "markdown",
   "metadata": {},
   "source": [
    "# What is `True`? \n",
    "\n",
    "Well, obviously `not` False ;-)"
   ]
  },
  {
   "cell_type": "markdown",
   "metadata": {},
   "source": [
    "### Comparison Operator (recap)"
   ]
  },
  {
   "cell_type": "markdown",
   "metadata": {},
   "source": [
    "## Python `if` statement\n"
   ]
  },
  {
   "cell_type": "code",
   "execution_count": 8,
   "metadata": {},
   "outputs": [
    {
     "name": "stdout",
     "output_type": "stream",
     "text": [
      "done\n"
     ]
    }
   ],
   "source": [
    "a = 6\n",
    "if a == 5:\n",
    "    print('a is 5')\n",
    "\n",
    "print(\"done\")"
   ]
  },
  {
   "cell_type": "markdown",
   "metadata": {},
   "source": [
    "### with variables"
   ]
  },
  {
   "cell_type": "code",
   "execution_count": 1,
   "metadata": {},
   "outputs": [
    {
     "name": "stdin",
     "output_type": "stream",
     "text": [
      "enter your age:  17\n"
     ]
    },
    {
     "name": "stdout",
     "output_type": "stream",
     "text": [
      "you are under aged for this program\n",
      "REST OF THE PROGRAM\n"
     ]
    }
   ],
   "source": [
    "x = input(\"enter your age: \")\n",
    "x = int(x)\n",
    "if x < 18:\n",
    "    print(\"you are under aged for this program\")\n",
    "\n",
    "\n",
    "print(\"REST OF THE PROGRAM\")"
   ]
  },
  {
   "cell_type": "markdown",
   "metadata": {},
   "source": [
    "### `else` block"
   ]
  },
  {
   "cell_type": "code",
   "execution_count": 2,
   "metadata": {},
   "outputs": [
    {
     "name": "stdin",
     "output_type": "stream",
     "text": [
      "enter your age:  19\n"
     ]
    },
    {
     "name": "stdout",
     "output_type": "stream",
     "text": [
      "welcome to python3 club, have Fun ;-)\n",
      "REST OF THE PROGRAM\n"
     ]
    }
   ],
   "source": [
    "x = input(\"enter your age: \")\n",
    "x = int(x)\n",
    "if x < 18:\n",
    "    print(\"you are under aged for this program\")\n",
    "else:\n",
    "    print(\"welcome to python3 club, have Fun ;-)\")\n",
    "\n",
    "print(\"REST OF THE PROGRAM\")"
   ]
  },
  {
   "cell_type": "markdown",
   "metadata": {},
   "source": [
    "### multiple condtions\n",
    "```python\n",
    "if (cod1 and cond2) or (cond3 and cond4):\n",
    "    pass\n",
    "```"
   ]
  },
  {
   "cell_type": "code",
   "execution_count": 3,
   "metadata": {},
   "outputs": [
    {
     "name": "stdout",
     "output_type": "stream",
     "text": [
      "ooops, wrong person\n"
     ]
    }
   ],
   "source": [
    "age = 22\n",
    "name = \"amir\"\n",
    "\n",
    "if age == 22 and name == \"amir\" :\n",
    "    print(\"that's me\")\n",
    "else:\n",
    "    print(\"ooops, wrong person\")"
   ]
  },
  {
   "cell_type": "code",
   "execution_count": 15,
   "metadata": {},
   "outputs": [
    {
     "name": "stdout",
     "output_type": "stream",
     "text": [
      "you are ready to go -_*\n"
     ]
    }
   ],
   "source": [
    "age = 1\n",
    "name = \"Amir Reza\"\n",
    "if age <= 0 or name == \"\":\n",
    "    print(\"please enter valid inputs for name and age\")\n",
    "else:\n",
    "    print(\"you are ready to go -_*\")"
   ]
  },
  {
   "cell_type": "markdown",
   "metadata": {},
   "source": [
    "### **Switch Case** in python and **Nested Conditions**"
   ]
  },
  {
   "cell_type": "code",
   "execution_count": 6,
   "metadata": {},
   "outputs": [
    {
     "name": "stdin",
     "output_type": "stream",
     "text": [
      "please enter a year number (1900-2019) :  1955\n"
     ]
    },
    {
     "name": "stdout",
     "output_type": "stream",
     "text": [
      "I only know a few things, if you don't like it, drop it ;|\n"
     ]
    }
   ],
   "source": [
    "year = input(\"please enter a year number (1900-2019) : \")\n",
    "year = int(year)\n",
    "validation = True\n",
    "\n",
    "# validate the input\n",
    "if year < 1930 or year > 2019:\n",
    "    print(\"input a year number within (1930-2019) range\")\n",
    "    validation = False\n",
    "\n",
    "\n",
    "if validation == True:\n",
    "    if year == 1918:\n",
    "        print(\"Event: World War 1 has started\")\n",
    "    elif year == 1939:\n",
    "        print(\"Event: Word War 2 has started\")\n",
    "    elif year == 2019:\n",
    "        print(\"that's where we are right now\")\n",
    "    else:\n",
    "        print(\"I only know a few things, if you don't like it, drop it ;|\")\n",
    "else:\n",
    "    print(\"Validation Error\")"
   ]
  },
  {
   "cell_type": "markdown",
   "metadata": {},
   "source": [
    "## Loops \n",
    "+ for loop\n",
    "+ while loop"
   ]
  },
  {
   "cell_type": "code",
   "execution_count": 8,
   "metadata": {},
   "outputs": [
    {
     "name": "stdout",
     "output_type": "stream",
     "text": [
      "1\n",
      "2\n",
      "3\n",
      "4\n",
      "5\n",
      "OUTSIDE LOOP\n"
     ]
    }
   ],
   "source": [
    "#simple range for loop\n",
    "for i in range(1,6):\n",
    "    print(i)\n",
    "print(\"OUTSIDE LOOP\")"
   ]
  },
  {
   "cell_type": "code",
   "execution_count": 11,
   "metadata": {},
   "outputs": [
    {
     "name": "stdout",
     "output_type": "stream",
     "text": [
      "0.0\n",
      "0.1\n",
      "0.2\n",
      "0.3\n",
      "0.4\n",
      "0.5\n",
      "0.6\n",
      "0.7\n",
      "0.8\n",
      "0.9\n",
      "1.0\n",
      "OUTSIDE LOOP\n"
     ]
    }
   ],
   "source": [
    "# range with stepping \n",
    "for i in range(0,11):\n",
    "    i = i / 10\n",
    "    print(i)\n",
    "print(\"OUTSIDE LOOP\")"
   ]
  },
  {
   "cell_type": "code",
   "execution_count": 10,
   "metadata": {},
   "outputs": [
    {
     "ename": "TypeError",
     "evalue": "'float' object cannot be interpreted as an integer",
     "output_type": "error",
     "traceback": [
      "\u001b[0;31m---------------------------------------------------------------------------\u001b[0m",
      "\u001b[0;31mTypeError\u001b[0m                                 Traceback (most recent call last)",
      "\u001b[0;32m<ipython-input-10-dccffd3fbd2d>\u001b[0m in \u001b[0;36m<module>\u001b[0;34m\u001b[0m\n\u001b[1;32m      1\u001b[0m \u001b[0;31m# error if using range for floats\u001b[0m\u001b[0;34m\u001b[0m\u001b[0;34m\u001b[0m\u001b[0;34m\u001b[0m\u001b[0m\n\u001b[0;32m----> 2\u001b[0;31m \u001b[0;32mfor\u001b[0m \u001b[0mi\u001b[0m \u001b[0;32min\u001b[0m \u001b[0mrange\u001b[0m\u001b[0;34m(\u001b[0m\u001b[0;36m10\u001b[0m\u001b[0;34m,\u001b[0m \u001b[0;36m11\u001b[0m\u001b[0;34m,\u001b[0m \u001b[0;36m0.5\u001b[0m\u001b[0;34m)\u001b[0m\u001b[0;34m:\u001b[0m\u001b[0;34m\u001b[0m\u001b[0;34m\u001b[0m\u001b[0m\n\u001b[0m\u001b[1;32m      3\u001b[0m     \u001b[0mprint\u001b[0m\u001b[0;34m(\u001b[0m\u001b[0mi\u001b[0m\u001b[0;34m)\u001b[0m\u001b[0;34m\u001b[0m\u001b[0;34m\u001b[0m\u001b[0m\n\u001b[1;32m      4\u001b[0m \u001b[0mprint\u001b[0m\u001b[0;34m(\u001b[0m\u001b[0;34m\"OUTSIDE LOOP\"\u001b[0m\u001b[0;34m)\u001b[0m\u001b[0;34m\u001b[0m\u001b[0;34m\u001b[0m\u001b[0m\n",
      "\u001b[0;31mTypeError\u001b[0m: 'float' object cannot be interpreted as an integer"
     ]
    }
   ],
   "source": [
    "# error if using range for floats\n",
    "for i in range(10, 11, 0.5):\n",
    "    print(i)\n",
    "print(\"OUTSIDE LOOP\")"
   ]
  },
  {
   "cell_type": "code",
   "execution_count": 13,
   "metadata": {},
   "outputs": [
    {
     "name": "stdout",
     "output_type": "stream",
     "text": [
      "0\n",
      "1\n",
      "2\n",
      "3\n",
      "4\n",
      "5\n",
      "6\n",
      "7\n",
      "8\n",
      "9\n",
      "10\n",
      "breaking the loop\n",
      "11\n",
      "12\n",
      "13\n",
      "14\n",
      "15\n",
      "16\n",
      "17\n",
      "18\n",
      "19\n",
      "OUTSIDE LOOP\n"
     ]
    }
   ],
   "source": [
    "# break from the loop\n",
    "for i in range(20):\n",
    "    print(i)\n",
    "    if i == 10:\n",
    "        print(\"breaking the loop\")\n",
    "        break\n",
    "print(\"OUTSIDE LOOP\")"
   ]
  },
  {
   "cell_type": "markdown",
   "metadata": {},
   "source": [
    "### while loop"
   ]
  },
  {
   "cell_type": "code",
   "execution_count": 14,
   "metadata": {},
   "outputs": [
    {
     "ename": "KeyboardInterrupt",
     "evalue": "",
     "output_type": "error",
     "traceback": [
      "\u001b[0;31m---------------------------------------------------------------------------\u001b[0m",
      "\u001b[0;31mKeyboardInterrupt\u001b[0m                         Traceback (most recent call last)",
      "\u001b[0;32m<ipython-input-14-dfa696214c8f>\u001b[0m in \u001b[0;36m<module>\u001b[0;34m\u001b[0m\n\u001b[1;32m      2\u001b[0m \u001b[0mx\u001b[0m \u001b[0;34m=\u001b[0m \u001b[0;36m0\u001b[0m\u001b[0;34m\u001b[0m\u001b[0;34m\u001b[0m\u001b[0m\n\u001b[1;32m      3\u001b[0m \u001b[0;32mwhile\u001b[0m \u001b[0;32mTrue\u001b[0m\u001b[0;34m:\u001b[0m\u001b[0;34m\u001b[0m\u001b[0;34m\u001b[0m\u001b[0m\n\u001b[0;32m----> 4\u001b[0;31m     \u001b[0mx\u001b[0m \u001b[0;34m=\u001b[0m \u001b[0;36m2\u001b[0m\u001b[0;34m\u001b[0m\u001b[0;34m\u001b[0m\u001b[0m\n\u001b[0m\u001b[1;32m      5\u001b[0m \u001b[0mprint\u001b[0m\u001b[0;34m(\u001b[0m\u001b[0;34m\"OUTSIDE LOOP\"\u001b[0m\u001b[0;34m)\u001b[0m\u001b[0;34m\u001b[0m\u001b[0;34m\u001b[0m\u001b[0m\n",
      "\u001b[0;31mKeyboardInterrupt\u001b[0m: "
     ]
    }
   ],
   "source": [
    "# simple while loop\n",
    "x = 0\n",
    "while True:\n",
    "    x = 2\n",
    "print(\"OUTSIDE LOOP\")"
   ]
  },
  {
   "cell_type": "markdown",
   "metadata": {},
   "source": [
    "<center><img src=\"res/loop.jpg\" width=\"500\" /></center>"
   ]
  },
  {
   "cell_type": "code",
   "execution_count": 15,
   "metadata": {},
   "outputs": [
    {
     "name": "stdout",
     "output_type": "stream",
     "text": [
      "1\n",
      "2\n",
      "3\n",
      "4\n",
      "5\n",
      "6\n",
      "7\n",
      "8\n",
      "9\n",
      "10\n",
      "OUTSIDE LOOP\n"
     ]
    }
   ],
   "source": [
    "# while loop condition\n",
    "x = 0\n",
    "while x < 10:\n",
    "    x += 1\n",
    "    print(x)\n",
    "print(\"OUTSIDE LOOP\")    "
   ]
  },
  {
   "cell_type": "markdown",
   "metadata": {},
   "source": [
    "### Continue Keywrod"
   ]
  },
  {
   "cell_type": "code",
   "execution_count": 21,
   "metadata": {},
   "outputs": [
    {
     "name": "stdout",
     "output_type": "stream",
     "text": [
      "skipping:  0\n",
      "1\n",
      "skipping:  2\n",
      "3\n",
      "skipping:  4\n",
      "5\n",
      "skipping:  6\n",
      "7\n",
      "skipping:  8\n",
      "9\n"
     ]
    }
   ],
   "source": [
    "# continue lets you to skip the rest of the loop block and jumps to the next iteration\n",
    "for i in range(0,10):\n",
    "    if i%2 == 0:\n",
    "        print(\"skipping: \", i)\n",
    "        continue\n",
    "    print(i)"
   ]
  },
  {
   "cell_type": "markdown",
   "metadata": {},
   "source": [
    "### <font color=red>Exercise: A number guessing game</font>\n",
    "1. pick a number at random\n",
    "2. ask the user to guess the number \n",
    "3. propmt the user and quit if he/she guessed the number correctly \n",
    "4. if user's guess is not correct, tell the user's choice was greater or smaller\n",
    "5. go to step 2"
   ]
  },
  {
   "cell_type": "code",
   "execution_count": null,
   "metadata": {},
   "outputs": [],
   "source": [
    "# write the code here "
   ]
  },
  {
   "cell_type": "code",
   "execution_count": null,
   "metadata": {},
   "outputs": [],
   "source": []
  }
 ],
 "metadata": {
  "kernelspec": {
   "display_name": "Python 3",
   "language": "python",
   "name": "python3"
  },
  "language_info": {
   "codemirror_mode": {
    "name": "ipython",
    "version": 3
   },
   "file_extension": ".py",
   "mimetype": "text/x-python",
   "name": "python",
   "nbconvert_exporter": "python",
   "pygments_lexer": "ipython3",
   "version": "3.6.8"
  }
 },
 "nbformat": 4,
 "nbformat_minor": 2
}
