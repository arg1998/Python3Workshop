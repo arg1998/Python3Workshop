{
 "cells": [
  {
   "cell_type": "markdown",
   "metadata": {},
   "source": [
    "# **What is Python**\n",
    "\n",
    "+ ### Python is an interpreted, high-level, general-purpose programming language. Created by Guido van Rossum and first released in 1991, Python has a design philosophy that emphasizes code readability\n",
    "\n",
    "+ ### Python is dynamically typed and garbage-collected. It supports multiple programming paradigms, including procedural, object-oriented, and functional programming.\n",
    "\n",
    "+ ### Python can run equally on different platforms such as Windows, Linux, Unix and Macintosh etc. So, we can say that Python is a portable language.\n",
    "\n",
    "+ ### It implies that other languages such as C/C++ can be used to compile the code and thus it can be used further in our python code.\n",
    "\n"
   ]
  },
  {
   "cell_type": "markdown",
   "metadata": {},
   "source": [
    "# **Philisophy Of the Python Language**\n",
    "\n",
    "Beautiful is better than ugly.</br>\n",
    "Explicit is better than implicit.</br>\n",
    "Simple is better than complex.</br>\n",
    "Complex is better than complicated.</br>\n",
    "Flat is better than nested.</br>\n",
    "Sparse is better than dense.</br>\n",
    "Readability counts.</br>\n",
    "Special cases aren't special enough to break the rules.</br>\n",
    "Although practicality beats purity.</br>\n",
    "Errors should never pass silently.</br>\n",
    "Unless explicitly silenced.</br>\n",
    "In the face of ambiguity, refuse the temptation to guess.</br>\n",
    "There should be one—and preferably only one—obvious way to do it.</br>\n",
    "Although that way may not be obvious at first unless you're Dutch.</br>\n",
    "Now is better than never.</br>\n",
    "Although never is often better than right now.</br>\n",
    "If the implementation is hard to explain, it's a bad idea.</br>\n",
    "If the implementation is easy to explain, it may be a good idea.</br>\n",
    "Namespaces are one honking great idea—let's do more of those!</br>\n"
   ]
  },
  {
   "cell_type": "markdown",
   "metadata": {},
   "source": [
    "# **History Of the Python**\n",
    "\n",
    "<center><img src=\"res/pythonhistory.jpg\" /></center>"
   ]
  },
  {
   "cell_type": "markdown",
   "metadata": {},
   "source": [
    "# **How to use python?**\n",
    "\n",
    "+ ### From REPL (Terminal or Shell)\n",
    "+ ### From an Editor or IDE\n",
    "    + Visual Studio Code\n",
    "    + PyCharm Community\n",
    "    + Spyder\n",
    "    + Jupyter Lab/Notebook"
   ]
  },
  {
   "cell_type": "markdown",
   "metadata": {},
   "source": [
    "# **Applications of Python**\n",
    "<center><img src=\"res/applications.jpg\" width=\"900\" /></center>"
   ]
  },
  {
   "cell_type": "markdown",
   "metadata": {},
   "source": [
    "# **Most Popular Python Libraries and Framworks**\n",
    "\n",
    "+ ## Web Development\n",
    "        Django, Flask, Web2Py, Tornado and ....\n",
    "        \n",
    "+ ## GUI and Game Development\n",
    "        PyGame, PyGLet, PyQt, TkInter, Kivy and ...\n",
    "        \n",
    "+ ## Scientific and Numrical Analysis\n",
    "        Numpy, SciPy, Pandas, Matplotlib and ...\n",
    "        \n",
    "+ ## AI and Machine Learning \n",
    "        Scikit-Learn, TensorFlow, PyTorch, NLTK and ....\n",
    "        \n",
    "+ ## ...\n",
    "\n",
    "\n",
    "# And So Many Many Many Other Libs :-) \n"
   ]
  },
  {
   "cell_type": "markdown",
   "metadata": {},
   "source": [
    "# **Python PEP and Code Style**\n",
    "<center><img src=\"res/indent meme.png\" /><img height=\"200\" width=\"300\" src=\"res/indent meme.jpg\" /></center>\n",
    "\n",
    "### **But Seriously, What is Python [PEP](https://www.python.org/dev/peps/pep-0008/)?**\n",
    "**PEP stands for Python Enhancement Proposal. A PEP is a design document providing information to the Python community, or describing a new feature for Python or its processes or environment. The PEP should provide a concise technical specification of the feature and a rationale for the feature.**\n",
    "\n",
    "### **And More Specific, What is PEP8?**\n",
    "**PEP 8 is Python's style guide. It's a set of rules for how to format your Python code to maximize its readability. Writing code to a specification helps to make large code bases, with lots of writers, more uniform and predictable, too.**\n",
    "\n",
    "**An [example](https://realpython.com/python-pep8/) would be:**\n",
    "<center><img src=\"res/pep8.png\" /></center>\n",
    "\n"
   ]
  },
  {
   "cell_type": "markdown",
   "metadata": {},
   "source": [
    "# _\"Talk is cheap, show me the code\"_ (Linus Torvalds)\n",
    "### Python _\"Hello World\"_"
   ]
  },
  {
   "cell_type": "code",
   "execution_count": 2,
   "metadata": {},
   "outputs": [
    {
     "name": "stdout",
     "output_type": "stream",
     "text": [
      "Hello World!\n"
     ]
    }
   ],
   "source": [
    "print(\"Hello World!\")"
   ]
  },
  {
   "cell_type": "markdown",
   "metadata": {},
   "source": [
    "# Wait a Minute!\n",
    "<center><img src=\"res/wth.jpg\" width=\"400\" /></center>\n"
   ]
  },
  {
   "cell_type": "code",
   "execution_count": null,
   "metadata": {},
   "outputs": [],
   "source": []
  },
  {
   "cell_type": "code",
   "execution_count": null,
   "metadata": {},
   "outputs": [],
   "source": []
  }
 ],
 "metadata": {
  "kernelspec": {
   "display_name": "Python 3",
   "language": "python",
   "name": "python3"
  },
  "language_info": {
   "codemirror_mode": {
    "name": "ipython",
    "version": 3
   },
   "file_extension": ".py",
   "mimetype": "text/x-python",
   "name": "python",
   "nbconvert_exporter": "python",
   "pygments_lexer": "ipython3",
   "version": "3.6.8"
  }
 },
 "nbformat": 4,
 "nbformat_minor": 2
}
