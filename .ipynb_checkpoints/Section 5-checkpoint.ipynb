{
 "cells": [
  {
   "cell_type": "markdown",
   "metadata": {},
   "source": [
    "# **Section 5: Functions, Built-In Functions and Special Attributes**\n",
    "\n",
    "### What are Functions?"
   ]
  },
  {
   "cell_type": "markdown",
   "metadata": {},
   "source": [
    "Functions are the primary and most important method of code organization and\n",
    "reuse in Python. As a rule of thumb, if you anticipate needing to repeat the same or\n",
    "very similar code more than once, it may be worth writing a reusable function. Funtions can also help make your code more readable by giving a name to a group of\n",
    "Python statements.<br/>\n",
    "A function in Python is defined by a def statement. The general syntax looks like this:<br/><br/>"
   ]
  },
  {
   "cell_type": "code",
   "execution_count": null,
   "metadata": {},
   "outputs": [],
   "source": [
    "# def function_name(Parameter list):\n",
    "#     statements, i.e. the function body\n",
    "\n",
    "#The parameter list consists of none or more parameters. \n",
    "#Parameters are called arguments, if the function is called.\n",
    "#Information can be passed to functions as parameter.\n",
    "\n",
    "#The function body gets executed every time the function is called. \n",
    "#Parameter can be mandatory or optional. \n",
    "#The optional parameters (zero or more) must follow the mandatory parameters. \n",
    "\n",
    "#Function bodies can contain a return statement."
   ]
  },
  {
   "cell_type": "markdown",
   "metadata": {},
   "source": [
    "### How do you call functions in Python?"
   ]
  },
  {
   "cell_type": "code",
   "execution_count": 5,
   "metadata": {},
   "outputs": [
    {
     "name": "stdout",
     "output_type": "stream",
     "text": [
      "Hello, pashmak, From My Function!, I wish you Delicious Food!!!!\n"
     ]
    }
   ],
   "source": [
    "def my_function(username, greeting):\n",
    "    print(F\"Hello, {username}, From My Function!, I wish you {greeting}\")\n",
    "\n",
    "# call the function \n",
    "my_function(\"pashmak\" ,\"Delicious Food!!!!\")"
   ]
  },
  {
   "cell_type": "code",
   "execution_count": 7,
   "metadata": {},
   "outputs": [
    {
     "name": "stdout",
     "output_type": "stream",
     "text": [
      "81\n"
     ]
    }
   ],
   "source": [
    "#Example\n",
    "#Functions are declared with the def keyword and returned from with the return key‐word:\n",
    "def Add_sqr(a, b):\n",
    "    return (a + b) ** 2\n",
    "\n",
    "c = Add_sqr(4,5)\n",
    "print(c)"
   ]
  },
  {
   "cell_type": "markdown",
   "metadata": {},
   "source": [
    "### Example of a Function with Optional Parameters"
   ]
  },
  {
   "cell_type": "code",
   "execution_count": 8,
   "metadata": {},
   "outputs": [
    {
     "name": "stdout",
     "output_type": "stream",
     "text": [
      "1 => 16\n",
      "2 =>  9\n"
     ]
    }
   ],
   "source": [
    "def Add(a, b = 8):\n",
    "    return a + b\n",
    "\n",
    "print(\"1 =>\", Add(8))\n",
    "print(\"2 => \" ,Add(6,3))\n"
   ]
  },
  {
   "cell_type": "code",
   "execution_count": 9,
   "metadata": {},
   "outputs": [],
   "source": [
    "#There is no issue with having multiple return statements. If Python reaches the end\n",
    "#of a function without encountering a return statement, None is returned automati‐cally.\n",
    "\n",
    "def operate_function_with_default_value(x, y, z=1.5):\n",
    "    if z > 1:\n",
    "        return z * (x + y)\n",
    "    else:\n",
    "        return z / (x + y)"
   ]
  },
  {
   "cell_type": "code",
   "execution_count": 10,
   "metadata": {},
   "outputs": [
    {
     "data": {
      "text/plain": [
       "0.0"
      ]
     },
     "execution_count": 10,
     "metadata": {},
     "output_type": "execute_result"
    }
   ],
   "source": [
    "operate_function_with_default_value(1,5,0)"
   ]
  },
  {
   "cell_type": "markdown",
   "metadata": {},
   "source": [
    "### **Namespaces, Scope, and Local Functions**"
   ]
  },
  {
   "cell_type": "markdown",
   "metadata": {},
   "source": [
    "Functions can access variables in two different scopes: **global** and **local**.<br/>An alternative\n",
    "and more descriptive name describing a variable scope in Python is a **namespace**.<br/>Any\n",
    "variables that are assigned within a function by default are assigned to the local\n",
    "namespace. <br/>The local namespace is created when the function is called and immediately populated by the function’s arguments. <br/>After the function is finished, the local\n",
    "namespace is destroyed.<br/>**Consider the following function:**"
   ]
  },
  {
   "cell_type": "code",
   "execution_count": 15,
   "metadata": {},
   "outputs": [],
   "source": [
    "def func_example_one():\n",
    "    a=[]\n",
    "    for i in range(5):\n",
    "        a.append(i)\n",
    "    return a\n",
    "       \n",
    "#When func() is called, the empty list a is created, five elements are appended, and\n",
    "#then a is destroyed when the function exits. Suppose instead we had declared a as follows:\n",
    "\n",
    "b = []\n",
    "def func_example_two():\n",
    "    for i in range(5):\n",
    "        b.append(i)\n",
    "    return b\n",
    "        \n",
    "    "
   ]
  },
  {
   "cell_type": "code",
   "execution_count": 18,
   "metadata": {},
   "outputs": [
    {
     "name": "stdout",
     "output_type": "stream",
     "text": [
      "[0, 1, 2, 3, 4]\n"
     ]
    }
   ],
   "source": [
    "func_example_two()\n",
    "print(b)"
   ]
  },
  {
   "cell_type": "code",
   "execution_count": null,
   "metadata": {},
   "outputs": [],
   "source": [
    "b"
   ]
  },
  {
   "cell_type": "markdown",
   "metadata": {},
   "source": [
    "Assigning variables outside of the function’s scope is possible, but those variables\n",
    "must be declared as global via the global keyword:"
   ]
  },
  {
   "cell_type": "code",
   "execution_count": 20,
   "metadata": {},
   "outputs": [
    {
     "name": "stdout",
     "output_type": "stream",
     "text": [
      "a before:  5\n",
      "a after:  2\n"
     ]
    }
   ],
   "source": [
    "a = 5\n",
    "print(\"a before: \", a)\n",
    "def bind_a_variable():\n",
    "    global a\n",
    "    a = 2\n",
    "\n",
    "bind_a_variable()\n",
    "print(\"a after: \", a)"
   ]
  },
  {
   "cell_type": "markdown",
   "metadata": {},
   "source": [
    "<center><img src=\"res/global.png\" /></center>"
   ]
  },
  {
   "cell_type": "markdown",
   "metadata": {},
   "source": [
    "### Returning Multiple Values"
   ]
  },
  {
   "cell_type": "markdown",
   "metadata": {},
   "source": [
    "When I first programmed in Python after having programmed in Java and C++, one<br/>\n",
    "of my favorite features was the ability to return multiple values from a function with\n",
    "simple syntax. Here’s an example:"
   ]
  },
  {
   "cell_type": "code",
   "execution_count": null,
   "metadata": {},
   "outputs": [],
   "source": [
    "def f():\n",
    "    a= 5\n",
    "    b= 6\n",
    "    c= 7\n",
    "    return a, b, c\n",
    "\n",
    "\n",
    "a,b,c = f()"
   ]
  },
  {
   "cell_type": "code",
   "execution_count": null,
   "metadata": {},
   "outputs": [],
   "source": [
    "print(\"a:\",a , \"b:\",b, \"c:\",c)"
   ]
  },
  {
   "cell_type": "markdown",
   "metadata": {},
   "source": [
    "In data analysis and other scientific applications, you may find yourself doing this\n",
    "often.<br/> What’s happening here is that the function is actually just returning one object,\n",
    "namely a tuple,<br/>\n",
    "which is then being unpacked into the result variables. <br/>In the preceding example, we could have done this instead:"
   ]
  },
  {
   "cell_type": "code",
   "execution_count": null,
   "metadata": {},
   "outputs": [],
   "source": [
    "return_value = f()"
   ]
  },
  {
   "cell_type": "code",
   "execution_count": null,
   "metadata": {},
   "outputs": [],
   "source": [
    "return_value"
   ]
  },
  {
   "cell_type": "markdown",
   "metadata": {},
   "source": [
    "In this case, return_value would be a 3-tuple with the three returned variables.<br/> A\n",
    "potentially attractive alternative to returning multiple values like before might be to\n",
    "return a dict instead:"
   ]
  },
  {
   "cell_type": "code",
   "execution_count": null,
   "metadata": {},
   "outputs": [],
   "source": [
    "def f():\n",
    "    a = 5\n",
    "    b = 6\n",
    "    c = 7\n",
    "    return {'a' : a, 'b' : b, 'c' : c}"
   ]
  },
  {
   "cell_type": "code",
   "execution_count": null,
   "metadata": {},
   "outputs": [],
   "source": [
    "f()"
   ]
  },
  {
   "cell_type": "markdown",
   "metadata": {},
   "source": [
    "## [**Built-in Functions**](https://www.programiz.com/python-programming/methods/built-in)"
   ]
  },
  {
   "cell_type": "code",
   "execution_count": null,
   "metadata": {},
   "outputs": [],
   "source": [
    "# dir()"
   ]
  },
  {
   "cell_type": "code",
   "execution_count": null,
   "metadata": {},
   "outputs": [],
   "source": [
    "# min(), max(), sum()"
   ]
  },
  {
   "cell_type": "code",
   "execution_count": null,
   "metadata": {},
   "outputs": [],
   "source": [
    "# sorted(), rversed()"
   ]
  },
  {
   "cell_type": "markdown",
   "metadata": {},
   "source": [
    "### [**Special Attributes**](http://exampleprogramming.com/specialvars.html)\n"
   ]
  },
  {
   "cell_type": "code",
   "execution_count": null,
   "metadata": {},
   "outputs": [],
   "source": [
    "def func(a):\n",
    "    \"\"\"\n",
    "    a: integer \n",
    "    this is some function\n",
    "    \"\"\"\n",
    "    pass\n",
    "print(func.__doc__)"
   ]
  },
  {
   "cell_type": "code",
   "execution_count": null,
   "metadata": {},
   "outputs": [],
   "source": []
  }
 ],
 "metadata": {
  "kernelspec": {
   "display_name": "Python 3",
   "language": "python",
   "name": "python3"
  },
  "language_info": {
   "codemirror_mode": {
    "name": "ipython",
    "version": 3
   },
   "file_extension": ".py",
   "mimetype": "text/x-python",
   "name": "python",
   "nbconvert_exporter": "python",
   "pygments_lexer": "ipython3",
   "version": "3.6.8"
  }
 },
 "nbformat": 4,
 "nbformat_minor": 2
}
