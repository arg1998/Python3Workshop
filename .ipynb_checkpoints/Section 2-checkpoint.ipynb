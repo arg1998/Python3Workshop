{
 "cells": [
  {
   "cell_type": "markdown",
   "metadata": {},
   "source": [
    "# **Section 2: DataTyps and Variables in Python**"
   ]
  },
  {
   "cell_type": "markdown",
   "metadata": {},
   "source": [
    "## What are python **Data Types**?\n",
    "+ Integer <font color=red>(like: 2, 3, -53)</font>\n",
    "+ Float <font color=red>(like: 2.3, 3.1415, -0.009)</font>\n",
    "+ Boolean <font color=red>(like True and False)</font>\n",
    "+ String <font color=red>(like: \"Amir Reza\", \"Python3\")</font>\n",
    "+ Complex <font color=red>(like: 2+3j, -1.5-9.6j)</font>\n",
    "\n",
    "## What are python **Data Containers**? (We'll get to this later in Section 4)\n",
    "+ List <font color=red>(like: [1, 2, 3])</font>\n",
    "+ Tuple <font color=red>(like: (1, 2, 3)</font>\n",
    "+ Dictionary <font color=red>(like: {name: \"Amir\", age: 22}</font>\n",
    "+ Set <font color=red>(like: {\"Amir\", \"Farzin\", \"Arman\", \"Shima\" }</font>\n"
   ]
  },
  {
   "cell_type": "markdown",
   "metadata": {},
   "source": [
    "## Declaring a Variable"
   ]
  },
  {
   "cell_type": "code",
   "execution_count": null,
   "metadata": {},
   "outputs": [],
   "source": [
    "a = 36\n",
    "print(a)\n",
    "print(type(a))"
   ]
  },
  {
   "cell_type": "code",
   "execution_count": null,
   "metadata": {},
   "outputs": [],
   "source": [
    "b = 3.14\n",
    "print(b)\n",
    "print(type(b))"
   ]
  },
  {
   "cell_type": "code",
   "execution_count": null,
   "metadata": {},
   "outputs": [],
   "source": [
    "c = False\n",
    "print(c)\n",
    "print(type(c))"
   ]
  },
  {
   "cell_type": "code",
   "execution_count": null,
   "metadata": {},
   "outputs": [],
   "source": [
    "d = \"Python Is Awesome!\"\n",
    "print(d)\n",
    "print(type(d))"
   ]
  },
  {
   "cell_type": "code",
   "execution_count": null,
   "metadata": {},
   "outputs": [],
   "source": [
    "e = 2 + 6j\n",
    "print(e)\n",
    "print(type(e))"
   ]
  },
  {
   "cell_type": "markdown",
   "metadata": {},
   "source": [
    "# **Strong** _vs_ **Weak** and **Static** _vs_ **Dynamic** Typing\n",
    "<center><img src=\"res/strongweak.gif\" width=\"500\" /><img src=\"res/staticdynamic.jpg\" /></center>"
   ]
  },
  {
   "cell_type": "code",
   "execution_count": null,
   "metadata": {},
   "outputs": [],
   "source": [
    "f = \"its a String\"\n",
    "print(\"String:\", f, type(f))\n",
    "f = 5050\n",
    "print(\"Number:\", f, type(f))"
   ]
  },
  {
   "cell_type": "markdown",
   "metadata": {},
   "source": [
    "# **Mutable** _vs_ **Immutable**\n",
    "An immutable object (unchangeable object) is an object whose state cannot be modified after it is created<center><img src=\"res/immutable.png\"/></center>\n",
    "\n",
    "### Lets see an example: "
   ]
  },
  {
   "cell_type": "code",
   "execution_count": 9,
   "metadata": {},
   "outputs": [
    {
     "name": "stdout",
     "output_type": "stream",
     "text": [
      "<class 'str'>\n",
      "Python3\n",
      "First Char:  P\n",
      "Last Char:  3\n"
     ]
    }
   ],
   "source": [
    "g = \"Python3\"\n",
    "print(type(g))\n",
    "print(g)\n",
    "print(\"First Char: \", g[0])\n",
    "print(\"Last Char: \", g[6])"
   ]
  },
  {
   "cell_type": "code",
   "execution_count": 10,
   "metadata": {},
   "outputs": [
    {
     "ename": "TypeError",
     "evalue": "'str' object does not support item assignment",
     "output_type": "error",
     "traceback": [
      "\u001b[0;31m---------------------------------------------------------------------------\u001b[0m",
      "\u001b[0;31mTypeError\u001b[0m                                 Traceback (most recent call last)",
      "\u001b[0;32m<ipython-input-10-7772eceb95be>\u001b[0m in \u001b[0;36m<module>\u001b[0;34m\u001b[0m\n\u001b[1;32m      1\u001b[0m \u001b[0;31m# Now Lets Change the last Character Only !!!\u001b[0m\u001b[0;34m\u001b[0m\u001b[0;34m\u001b[0m\u001b[0;34m\u001b[0m\u001b[0m\n\u001b[0;32m----> 2\u001b[0;31m \u001b[0mg\u001b[0m\u001b[0;34m[\u001b[0m\u001b[0;36m6\u001b[0m\u001b[0;34m]\u001b[0m \u001b[0;34m=\u001b[0m \u001b[0;34m\"2\"\u001b[0m\u001b[0;34m\u001b[0m\u001b[0;34m\u001b[0m\u001b[0m\n\u001b[0m",
      "\u001b[0;31mTypeError\u001b[0m: 'str' object does not support item assignment"
     ]
    }
   ],
   "source": [
    "# Now Lets Change the last Character Only !!!\n",
    "g[6] = \"2\""
   ]
  },
  {
   "cell_type": "markdown",
   "metadata": {},
   "source": [
    "# Constructors and Type Conversion\n",
    "\n",
    "+ we can initialize a variable by assigning a **constructor** to it\n",
    "+ each constructor has a default return value"
   ]
  },
  {
   "cell_type": "code",
   "execution_count": 11,
   "metadata": {},
   "outputs": [
    {
     "name": "stdout",
     "output_type": "stream",
     "text": [
      "a: 0 *** b: 0.0 *** c:  *** d: False *** e: 0j\n"
     ]
    }
   ],
   "source": [
    "\n",
    "a = int()\n",
    "b = float()\n",
    "c = str()\n",
    "d = bool()\n",
    "e = complex()\n",
    "print(\"a:\", a, \"*** b:\", b, \"*** c:\", c, \"*** d:\", d, \"*** e:\", e)"
   ]
  },
  {
   "cell_type": "markdown",
   "metadata": {},
   "source": [
    "### what about converting one type tp another?\n",
    "see this example:"
   ]
  },
  {
   "cell_type": "code",
   "execution_count": 12,
   "metadata": {},
   "outputs": [
    {
     "ename": "TypeError",
     "evalue": "must be str, not int",
     "output_type": "error",
     "traceback": [
      "\u001b[0;31m---------------------------------------------------------------------------\u001b[0m",
      "\u001b[0;31mTypeError\u001b[0m                                 Traceback (most recent call last)",
      "\u001b[0;32m<ipython-input-12-c992c1e0bc08>\u001b[0m in \u001b[0;36m<module>\u001b[0;34m\u001b[0m\n\u001b[1;32m      2\u001b[0m \u001b[0mmy_number\u001b[0m \u001b[0;34m=\u001b[0m \u001b[0;36m22\u001b[0m\u001b[0;34m\u001b[0m\u001b[0;34m\u001b[0m\u001b[0m\n\u001b[1;32m      3\u001b[0m \u001b[0;31m# this will result in a TypeError!\u001b[0m\u001b[0;34m\u001b[0m\u001b[0;34m\u001b[0m\u001b[0;34m\u001b[0m\u001b[0m\n\u001b[0;32m----> 4\u001b[0;31m \u001b[0mprint\u001b[0m\u001b[0;34m(\u001b[0m\u001b[0mmy_string\u001b[0m \u001b[0;34m+\u001b[0m \u001b[0mmy_number\u001b[0m\u001b[0;34m)\u001b[0m\u001b[0;34m\u001b[0m\u001b[0;34m\u001b[0m\u001b[0m\n\u001b[0m\u001b[1;32m      5\u001b[0m \u001b[0;34m\u001b[0m\u001b[0m\n",
      "\u001b[0;31mTypeError\u001b[0m: must be str, not int"
     ]
    }
   ],
   "source": [
    "my_string = \"amir \"\n",
    "my_number = 22\n",
    "# this will result in a TypeError!\n",
    "print(my_string + my_number)\n",
    "\n"
   ]
  },
  {
   "cell_type": "markdown",
   "metadata": {},
   "source": [
    "### But Why? \n",
    "as we mentioned erlear, python is a Dynamic, and Strong Typed programming language. so we cant easily convert types from one to another\n",
    "\n",
    "but consider this example:"
   ]
  },
  {
   "cell_type": "code",
   "execution_count": 13,
   "metadata": {},
   "outputs": [
    {
     "name": "stdout",
     "output_type": "stream",
     "text": [
      "sum: 99.5\n",
      "type of result: <class 'float'>\n"
     ]
    }
   ],
   "source": [
    "my_number = 99\n",
    "your_number = 0.5\n",
    "\n",
    "result = my_number + your_number\n",
    "\n",
    "print(\"sum:\", result)\n",
    "print(\"type of result:\", type(result))"
   ]
  },
  {
   "cell_type": "markdown",
   "metadata": {},
   "source": [
    "<center><img src=\"res/working.jpeg\" width=\"400\" /></center>\n",
    "\n",
    "### BUT WHY ??????\n"
   ]
  },
  {
   "cell_type": "markdown",
   "metadata": {},
   "source": [
    "## **Implicit** _vs_ **Explicit** Type Conversion\n",
    "\n",
    "+  **_Implicit_**: In Implicit type conversion, Python automatically converts one data type to another data type. This process doesn't need any user involvement.\n",
    "\n",
    "+ **_Explicit_**: In Explicit Type Conversion, users convert the data type of an object to required data type. We use the predefined functions like `int()`, `float()`, `str()`, etc to perform explicit type conversion."
   ]
  },
  {
   "cell_type": "code",
   "execution_count": 14,
   "metadata": {},
   "outputs": [
    {
     "name": "stdout",
     "output_type": "stream",
     "text": [
      "amir22\n"
     ]
    }
   ],
   "source": [
    "my_string = \"amir\"\n",
    "my_number = 22\n",
    "result = my_string + str(my_number)\n",
    "print(result)"
   ]
  },
  {
   "cell_type": "code",
   "execution_count": 18,
   "metadata": {},
   "outputs": [
    {
     "name": "stdout",
     "output_type": "stream",
     "text": [
      "3.1415 <class 'float'>\n"
     ]
    },
    {
     "ename": "NameError",
     "evalue": "name 'z' is not defined",
     "output_type": "error",
     "traceback": [
      "\u001b[0;31m---------------------------------------------------------------------------\u001b[0m",
      "\u001b[0;31mNameError\u001b[0m                                 Traceback (most recent call last)",
      "\u001b[0;32m<ipython-input-18-d9a8a1a36fd1>\u001b[0m in \u001b[0;36m<module>\u001b[0;34m\u001b[0m\n\u001b[1;32m      2\u001b[0m \u001b[0mpi\u001b[0m \u001b[0;34m=\u001b[0m \u001b[0mfloat\u001b[0m\u001b[0;34m(\u001b[0m\u001b[0mstring\u001b[0m\u001b[0;34m)\u001b[0m\u001b[0;34m\u001b[0m\u001b[0;34m\u001b[0m\u001b[0m\n\u001b[1;32m      3\u001b[0m \u001b[0mprint\u001b[0m\u001b[0;34m(\u001b[0m\u001b[0mpi\u001b[0m\u001b[0;34m,\u001b[0m \u001b[0mtype\u001b[0m\u001b[0;34m(\u001b[0m\u001b[0mpi\u001b[0m\u001b[0;34m)\u001b[0m\u001b[0;34m)\u001b[0m\u001b[0;34m\u001b[0m\u001b[0;34m\u001b[0m\u001b[0m\n\u001b[0;32m----> 4\u001b[0;31m \u001b[0mprint\u001b[0m\u001b[0;34m(\u001b[0m\u001b[0mz\u001b[0m \u001b[0;34m*\u001b[0m \u001b[0;36m5\u001b[0m\u001b[0;34m)\u001b[0m\u001b[0;34m\u001b[0m\u001b[0;34m\u001b[0m\u001b[0m\n\u001b[0m",
      "\u001b[0;31mNameError\u001b[0m: name 'z' is not defined"
     ]
    }
   ],
   "source": [
    "string = 3.1415\n",
    "pi = float(string)\n",
    "print(pi, type(pi))\n",
    "print(z * 5)"
   ]
  },
  {
   "cell_type": "markdown",
   "metadata": {},
   "source": [
    "### A complete example of explicit type conversion\n"
   ]
  },
  {
   "cell_type": "code",
   "execution_count": 19,
   "metadata": {},
   "outputs": [
    {
     "name": "stdout",
     "output_type": "stream",
     "text": [
      "a: 32     type: <class 'int'>\n",
      "b: 6.354     type: <class 'float'>\n",
      "c: 3.65     type: <class 'str'>\n"
     ]
    }
   ],
   "source": [
    "a = int(\"32\")\n",
    "print(\"a:\", a, \"    type:\", type(a))\n",
    "\n",
    "b = float(\"6.354\")\n",
    "print(\"b:\", b, \"    type:\", type(b))\n",
    "\n",
    "c = str(3.65)\n",
    "print(\"c:\", c, \"    type:\", type(c))"
   ]
  },
  {
   "cell_type": "markdown",
   "metadata": {},
   "source": [
    "# Python number arithmetic"
   ]
  },
  {
   "cell_type": "code",
   "execution_count": 20,
   "metadata": {},
   "outputs": [
    {
     "name": "stdout",
     "output_type": "stream",
     "text": [
      "2+2: 4\n",
      "2*0.5: 1.0\n",
      "10/3: 3.3333333333333335\n",
      "10//3: 3\n",
      "2^3: 8\n",
      "10 % 3: 1\n",
      "\"Amir \" + \"Reza\": Amir Reza\n",
      "4 * \"B\": BBBB\n"
     ]
    }
   ],
   "source": [
    "print(\"2+2:\", 2 + 2)\n",
    "print(\"2*0.5:\", 2 * 0.5)\n",
    "print(\"10/3:\", 10 / 3)\n",
    "print(\"10//3:\", 10 // 3)\n",
    "print(\"2^3:\", 2 ** 3)\n",
    "print(\"10 % 3:\", 10 % 3)\n",
    "print('\"Amir \" + \"Reza\":', 'Amir ' + 'Reza' )\n",
    "print('4 * \"B\":', 4 * \"B\")\n",
    "a = \"a\"\n",
    "b = 'b'"
   ]
  },
  {
   "cell_type": "markdown",
   "metadata": {},
   "source": [
    "## See these links for more concrete examples\n",
    "+ **[Programmiz](https://www.programiz.com/python-programming/operators)**\n",
    "+ **[W3Schools](https://www.w3schools.com/python/python_operators.asp)**"
   ]
  },
  {
   "cell_type": "code",
   "execution_count": null,
   "metadata": {},
   "outputs": [],
   "source": []
  }
 ],
 "metadata": {
  "kernelspec": {
   "display_name": "Python 3",
   "language": "python",
   "name": "python3"
  },
  "language_info": {
   "codemirror_mode": {
    "name": "ipython",
    "version": 3
   },
   "file_extension": ".py",
   "mimetype": "text/x-python",
   "name": "python",
   "nbconvert_exporter": "python",
   "pygments_lexer": "ipython3",
   "version": "3.6.8"
  }
 },
 "nbformat": 4,
 "nbformat_minor": 2
}
